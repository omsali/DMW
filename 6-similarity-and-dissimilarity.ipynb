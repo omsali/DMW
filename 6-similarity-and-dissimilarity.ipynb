{
  "nbformat": 4,
  "nbformat_minor": 0,
  "metadata": {
    "colab": {
      "provenance": []
    },
    "kernelspec": {
      "name": "python3",
      "display_name": "Python 3"
    },
    "language_info": {
      "name": "python"
    }
  },
  "cells": [
    {
      "cell_type": "code",
      "source": [
        "#Numeric similarity and dissimilarty"
      ],
      "metadata": {
        "id": "RbtqR23RGrju"
      },
      "execution_count": 8,
      "outputs": []
    },
    {
      "cell_type": "code",
      "source": [
        "#manhattan distance \n",
        "from math import*\n",
        " \n",
        "def manhattan_distance(x,y):\n",
        " \n",
        "    return sum(abs(a-b) for a,b in zip(x,y))"
      ],
      "metadata": {
        "id": "DaciyHI0GScw"
      },
      "execution_count": 3,
      "outputs": []
    },
    {
      "cell_type": "code",
      "source": [
        "#euclidean distance \n",
        "from math import*\n",
        " \n",
        "def euclidean_distance(x,y):\n",
        " \n",
        "    return sqrt(sum(pow(a-b,2) for a, b in zip(x, y)))"
      ],
      "metadata": {
        "id": "M21Sy9dxV_Y2"
      },
      "execution_count": 1,
      "outputs": []
    },
    {
      "cell_type": "code",
      "source": [
        "print(euclidean_distance([0,3,4,5],[7,6,3,-1]))"
      ],
      "metadata": {
        "colab": {
          "base_uri": "https://localhost:8080/"
        },
        "id": "7ptq263CVupG",
        "outputId": "b2f755e2-95b6-4a1a-d357-c1f36453343c"
      },
      "execution_count": 7,
      "outputs": [
        {
          "output_type": "stream",
          "name": "stdout",
          "text": [
            "9.746794344808963\n"
          ]
        }
      ]
    },
    {
      "cell_type": "code",
      "source": [
        "print(manhattan_distance([10,20,10],[10,20,20]))"
      ],
      "metadata": {
        "colab": {
          "base_uri": "https://localhost:8080/"
        },
        "id": "FUw-HJ1oGWF6",
        "outputId": "8caca2ca-d366-4321-b446-450faeb72041"
      },
      "execution_count": 4,
      "outputs": [
        {
          "output_type": "stream",
          "name": "stdout",
          "text": [
            "10\n"
          ]
        }
      ]
    },
    {
      "cell_type": "code",
      "source": [
        "#minkowski distance \n",
        "\n",
        "from math import*\n",
        "from decimal import Decimal\n",
        " \n",
        "def nth_root(value, n_root):\n",
        " \n",
        "    root_value = 1/float(n_root)\n",
        "    return round (Decimal(value) ** Decimal(root_value),3)\n",
        " \n",
        "def minkowski_distance(x,y,p_value):\n",
        " \n",
        "    return nth_root(sum(pow(abs(a-b),p_value) for a,b in zip(x, y)),p_value)"
      ],
      "metadata": {
        "id": "jVDRVKzQGZab"
      },
      "execution_count": 5,
      "outputs": []
    },
    {
      "cell_type": "code",
      "source": [
        "print (minkowski_distance([0,3,4,5],[7,6,3,-1],3))"
      ],
      "metadata": {
        "colab": {
          "base_uri": "https://localhost:8080/"
        },
        "id": "S2UFUZv8Gc3D",
        "outputId": "1db922e4-739a-4fd6-92e9-d462c26808fb"
      },
      "execution_count": 6,
      "outputs": [
        {
          "output_type": "stream",
          "name": "stdout",
          "text": [
            "8.373\n"
          ]
        }
      ]
    },
    {
      "cell_type": "code",
      "source": [
        "#cosine similarity and dissimilarty"
      ],
      "metadata": {
        "id": "y4JUd1noGhFb"
      },
      "execution_count": 9,
      "outputs": []
    },
    {
      "cell_type": "code",
      "source": [
        "from math import*\n",
        " \n",
        "def square_rooted(x):\n",
        " \n",
        "    return round(sqrt(sum([a*a for a in x])),3)\n",
        " \n",
        "def cosine_similarity(x,y):\n",
        "    numerator = sum(a*b for a,b in zip(x,y))\n",
        "    denominator = square_rooted(x)*square_rooted(y)\n",
        "    return round(numerator/float(denominator),3)"
      ],
      "metadata": {
        "id": "aFWgvIWBGmnm"
      },
      "execution_count": 10,
      "outputs": []
    },
    {
      "cell_type": "code",
      "source": [
        "\n",
        "print(cosine_similarity([3, 45, 7, 2], [2, 54, 13, 15]))"
      ],
      "metadata": {
        "colab": {
          "base_uri": "https://localhost:8080/"
        },
        "id": "BpuP62RgG77i",
        "outputId": "7730c0d6-ffd3-48c6-f406-ef76c8f7ccca"
      },
      "execution_count": 11,
      "outputs": [
        {
          "output_type": "stream",
          "name": "stdout",
          "text": [
            "0.972\n"
          ]
        }
      ]
    },
    {
      "cell_type": "code",
      "source": [],
      "metadata": {
        "id": "OWpMUIu_G-1y"
      },
      "execution_count": null,
      "outputs": []
    }
  ]
}